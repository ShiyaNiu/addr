{
 "cells": [
  {
   "cell_type": "code",
   "execution_count": 1,
   "metadata": {},
   "outputs": [
    {
     "name": "stderr",
     "output_type": "stream",
     "text": [
      "WARNING:root:Limited tf.compat.v2.summary API due to missing TensorBoard installation.\n",
      "WARNING:root:Limited tf.compat.v2.summary API due to missing TensorBoard installation.\n",
      "WARNING:root:Limited tf.compat.v2.summary API due to missing TensorBoard installation.\n",
      "WARNING:root:Limited tf.summary API due to missing TensorBoard installation.\n",
      "WARNING:root:Limited tf.compat.v2.summary API due to missing TensorBoard installation.\n",
      "WARNING:root:Limited tf.compat.v2.summary API due to missing TensorBoard installation.\n",
      "WARNING:root:Limited tf.compat.v2.summary API due to missing TensorBoard installation.\n"
     ]
    }
   ],
   "source": [
    "from hanlp.utils.io_util import read_tsv"
   ]
  },
  {
   "cell_type": "code",
   "execution_count": 12,
   "metadata": {},
   "outputs": [],
   "source": [
    "def char2word(sent):\n",
    "    chars = [cells[0] for cells in sent]\n",
    "    tags = [cells[1] for cells in sent]\n",
    "    if not chars:\n",
    "        return\n",
    "    words = []\n",
    "    labels = []\n",
    "    word = ''\n",
    "    for i in range(len(chars)):\n",
    "        ch = chars[i]\n",
    "        tag = tags[i]\n",
    "        tag_left,tag_right = tag.strip().split('-')\n",
    "        if tag_left == 'B':\n",
    "            if word:\n",
    "                words.append(word)\n",
    "            word = ch\n",
    "            labels.append(tag_right)\n",
    "        elif tag_left == 'I':\n",
    "            word += ch\n",
    "    words.append(word)\n",
    "    assert len(words)==len(labels),\"ERROR {} {}\".format(words,labels)\n",
    "    return words,labels"
   ]
  },
  {
   "cell_type": "code",
   "execution_count": 13,
   "metadata": {},
   "outputs": [
    {
     "name": "stdout",
     "output_type": "stream",
     "text": [
      "龙山镇,慈东,滨海区,海丰北路,602号|town,community,redundant,road,roadno\n",
      "浙江省,杭州市,滨江区,缤纷北苑,47,-,6,-,746|prov,city,district,poi,houseno,redundant,cellno,redundant,roomno\n",
      "浙江省,杭州市,余杭区,杭州市,余杭区,闲林街道,五常大道,翡翠城,竹苑|prov,city,district,redundant,redundant,town,road,poi,subpoi\n",
      "浙江省,杭州市,滨江区,滨康路,1037号|prov,city,district,road,roadno\n",
      "宁波市,江北区,文汇路,553弄,8号门,472|city,district,road,roadno,poi,roomno\n"
     ]
    }
   ],
   "source": [
    "def show_seq_data(tsv_path):\n",
    "    count = 0\n",
    "    for sent in read_tsv(tsv_path):\n",
    "        words,labels = char2word(sent)\n",
    "        if count < 5:\n",
    "            print(\",\".join(words)+\"|\"+\",\".join(labels))\n",
    "        else:\n",
    "            break\n",
    "        count += 1\n",
    "train_path = './train.txt'\n",
    "show_seq_data(train_path)"
   ]
  },
  {
   "cell_type": "code",
   "execution_count": 34,
   "metadata": {},
   "outputs": [
    {
     "name": "stdout",
     "output_type": "stream",
     "text": [
      " 8957  train +  2985  dev +  2985  test + "
     ]
    }
   ],
   "source": [
    "def print_data_nums(tsv_path,source=\"train\"):\n",
    "    count = 0\n",
    "    for sent in read_tsv(tsv_path):\n",
    "        count += 1\n",
    "    print(\" {}  {} +\".format(count,source),end=\" \")\n",
    "train_path = './train.txt'\n",
    "dev_path = './dev.txt'\n",
    "test_path = './test.txt'\n",
    "print_data_nums(train_path,source=\"train\")\n",
    "print_data_nums(dev_path,source=\"dev\")\n",
    "print_data_nums(test_path,source=\"test\")"
   ]
  },
  {
   "cell_type": "code",
   "execution_count": 29,
   "metadata": {},
   "outputs": [
    {
     "name": "stdout",
     "output_type": "stream",
     "text": [
      "训练集 实体类别计数：\n",
      "命名实体的种类数：21\n",
      "总数: 50934 ,prov : 3794 ,city : 4824 ,district : 5881 ,devzone : 330 ,town : 3972 ,community : 1279 ,country : 41 ,road : 5410 ,roadno : 4316 ,subroad : 333 ,subroadno : 170 ,poi : 6312 ,subpoi : 1435 ,houseno : 2993 ,cellno : 1134 ,floorno : 1119 ,roomno : 2702 ,assist : 718 ,person : 650 ,redundant : 3517 ,otherinfo : 4 ,\n",
      "\n",
      "验证集 实体类别计数：\n",
      "命名实体的种类数：21\n",
      "总数: 17024 ,prov : 1317 ,city : 1662 ,district : 2027 ,devzone : 118 ,town : 1300 ,community : 415 ,country : 15 ,road : 1788 ,roadno : 1435 ,subroad : 109 ,subroadno : 68 ,poi : 2093 ,subpoi : 461 ,houseno : 978 ,cellno : 388 ,floorno : 346 ,roomno : 883 ,assist : 206 ,person : 207 ,redundant : 1208 ,otherinfo : 0 ,\n",
      "\n",
      "测试集 实体类别计数：\n",
      "命名实体的种类数：21\n",
      "总数: 16704 ,prov : 1265 ,city : 1613 ,district : 1921 ,devzone : 107 ,town : 1308 ,community : 416 ,country : 13 ,road : 1801 ,roadno : 1401 ,subroad : 130 ,subroadno : 75 ,poi : 2122 ,subpoi : 487 ,houseno : 943 ,cellno : 358 ,floorno : 331 ,roomno : 824 ,assist : 241 ,person : 208 ,redundant : 1137 ,otherinfo : 3 ,\n",
      "\n"
     ]
    }
   ],
   "source": [
    "def kind_nums_count(data_path,source=\"train\"):\n",
    "    labels = ['prov','city','district','devzone','town','community','country','road', 'roadno','subroad','subroadno','poi', 'subpoi', 'houseno','cellno','floorno','roomno','assist','person','redundant', 'otherinfo']\n",
    "    count = {}\n",
    "    for l in labels:\n",
    "        count[l] = 0\n",
    "    for sent in read_tsv(data_path):\n",
    "        words,labels = char2word(sent)\n",
    "        for t in labels:\n",
    "            t = t.lower()\n",
    "            count[t] += 1\n",
    "    print(source+\" 实体类别计数：\")\n",
    "    print(\"命名实体的种类数：{}\".format(len(count)))\n",
    "    print(\"总数:\",sum(list(count.values())),\",\",end=\"\")\n",
    "    for k,v in count.items():\n",
    "        print(k,\":\",v,\",\",end=\"\")\n",
    "    print(\"\\n\")\n",
    "    return list(count.values())\n",
    "train_kind = kind_nums_count(train_path,source=\"训练集\")\n",
    "dev_kind = kind_nums_count(dev_path,source=\"验证集\")\n",
    "test_kind = kind_nums_count(test_path,source=\"测试集\")\n"
   ]
  },
  {
   "cell_type": "code",
   "execution_count": 38,
   "metadata": {},
   "outputs": [
    {
     "name": "stdout",
     "output_type": "stream",
     "text": [
      "TOO LONG SEQUENCE:  广西壮族自治区柳州市鱼峰区荣军街道永意山语城10栋11单元119楼8号注_快递哥不用打电话直接放物业办公室谢谢哈不用电话了_本人电话太多请理解\n",
      "TOO LONG SEQUENCE:  安徽省合肥市包河区经济开发区繁华大道与吉林路交叉口东南角联东U谷第一期104号楼1-4层安徽伊普诺康生物工程有限公司\n",
      "句子数量: 14927\n",
      "最大句子长度：76, 最小句子长度：3\n",
      "统计句子长度: defaultdict(<class 'int'>, {'15': 5744, '20': 3461, '25': 1521, '10': 3417, '30': 536, '35': 161, '40': 49, '45': 11, '5': 18, '50': 3, '0': 2, '70': 1, '55': 1, '60': 1, '75': 1})\n"
     ]
    },
    {
     "data": {
      "text/plain": [
       "defaultdict(int,\n",
       "            {'15': 5744,\n",
       "             '20': 3461,\n",
       "             '25': 1521,\n",
       "             '10': 3417,\n",
       "             '30': 536,\n",
       "             '35': 161,\n",
       "             '40': 49,\n",
       "             '45': 11,\n",
       "             '5': 18,\n",
       "             '50': 3,\n",
       "             '0': 2,\n",
       "             '70': 1,\n",
       "             '55': 1,\n",
       "             '60': 1,\n",
       "             '75': 1})"
      ]
     },
     "execution_count": 38,
     "metadata": {},
     "output_type": "execute_result"
    }
   ],
   "source": [
    "#统计句子长度\n",
    "from collections import defaultdict\n",
    "def seq_length_count(train,dev,test):\n",
    "    length_count = defaultdict(int)\n",
    "    max_length = 0\n",
    "    min_length = 10000\n",
    "    count_t,count_d,count_test = 0,0,0\n",
    "    for sent in read_tsv(train):\n",
    "        count_t += 1\n",
    "        words,labels = char2word(sent)\n",
    "        word_join = \"\".join(words)\n",
    "        length = len(word_join)\n",
    "        max_length = max(length,max_length)\n",
    "        min_length = min(length,min_length)\n",
    "        idx = str(5*(length//5))\n",
    "        length_count[idx] += 1\n",
    "        if length>50:\n",
    "            print(\"TOO LONG SEQUENCE: \",word_join)\n",
    "    for sent in read_tsv(dev):\n",
    "        words,labels = char2word(sent)\n",
    "        word_join = \"\".join(words)\n",
    "        length = len(word_join)\n",
    "        max_length = max(length,max_length)\n",
    "        min_length = min(length,min_length)\n",
    "        idx = str(5*(length//5))\n",
    "        length_count[idx] += 1\n",
    "        count_d += 1\n",
    "    for sent in read_tsv(test):\n",
    "        words,labels = char2word(sent)\n",
    "        word_join = \"\".join(words)\n",
    "        length = len(word_join)\n",
    "        max_length = max(length,max_length)\n",
    "        min_length = min(length,min_length)\n",
    "        idx = str(5*(length//5))\n",
    "        length_count[idx] += 1\n",
    "        count_test += 1\n",
    "    print(\"句子数量:\",count_t+count_d+count_test)\n",
    "\n",
    "    print(\"最大句子长度：{}, 最小句子长度：{}\".format(max_length,min_length))\n",
    "    print(\"统计句子长度:\",length_count)\n",
    "    return length_count\n",
    "seq_length_count(train_path,dev_path,test_path)"
   ]
  }
 ],
 "metadata": {
  "kernelspec": {
   "display_name": "Python 3 (ipykernel)",
   "language": "python",
   "name": "python3"
  },
  "language_info": {
   "codemirror_mode": {
    "name": "ipython",
    "version": 3
   },
   "file_extension": ".py",
   "mimetype": "text/x-python",
   "name": "python",
   "nbconvert_exporter": "python",
   "pygments_lexer": "ipython3",
   "version": "3.8.3"
  },
  "toc": {
   "base_numbering": 1,
   "nav_menu": {},
   "number_sections": true,
   "sideBar": true,
   "skip_h1_title": false,
   "title_cell": "Table of Contents",
   "title_sidebar": "Contents",
   "toc_cell": false,
   "toc_position": {},
   "toc_section_display": true,
   "toc_window_display": false
  },
  "vscode": {
   "interpreter": {
    "hash": "15a3e5797cb6aad9ea1168f4ed78edceac19b01641a91837fe21ecdd34a7ade6"
   }
  }
 },
 "nbformat": 4,
 "nbformat_minor": 2
}
