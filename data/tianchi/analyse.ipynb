{
 "cells": [
  {
   "cell_type": "code",
   "execution_count": 1,
   "metadata": {},
   "outputs": [
    {
     "name": "stderr",
     "output_type": "stream",
     "text": [
      "/home/bangsun/anaconda3/lib/python3.8/site-packages/scipy/__init__.py:138: UserWarning: A NumPy version >=1.16.5 and <1.23.0 is required for this version of SciPy (detected version 1.23.5)\n",
      "  warnings.warn(f\"A NumPy version >={np_minversion} and <{np_maxversion} is required for this version of \"\n",
      "WARNING:root:Limited tf.compat.v2.summary API due to missing TensorBoard installation.\n",
      "WARNING:root:Limited tf.compat.v2.summary API due to missing TensorBoard installation.\n",
      "WARNING:root:Limited tf.compat.v2.summary API due to missing TensorBoard installation.\n",
      "WARNING:root:Limited tf.summary API due to missing TensorBoard installation.\n",
      "WARNING:root:Limited tf.compat.v2.summary API due to missing TensorBoard installation.\n",
      "WARNING:root:Limited tf.compat.v2.summary API due to missing TensorBoard installation.\n",
      "WARNING:root:Limited tf.compat.v2.summary API due to missing TensorBoard installation.\n"
     ]
    }
   ],
   "source": [
    "from hanlp.utils.io_util import read_tsv"
   ]
  },
  {
   "cell_type": "code",
   "execution_count": 2,
   "metadata": {},
   "outputs": [],
   "source": [
    "def char2word(sent):\n",
    "    chars = [cells[0] for cells in sent]\n",
    "    tags = [cells[1] for cells in sent]\n",
    "    if not chars:\n",
    "        return\n",
    "    words = []\n",
    "    labels = []\n",
    "    word = ''\n",
    "    for i in range(len(chars)):\n",
    "        ch = chars[i]\n",
    "        tag = tags[i]\n",
    "        tag_left,tag_right = tag.strip().split('-')\n",
    "        if tag_left == 'B':\n",
    "            if word:\n",
    "                words.append(word)\n",
    "            word = ch\n",
    "            labels.append(tag_right)\n",
    "        elif tag_left == 'I':\n",
    "            word += ch\n",
    "    words.append(word)\n",
    "    assert len(words)==len(labels),\"ERROR {} {}\".format(words,labels)\n",
    "    return words,labels"
   ]
  },
  {
   "cell_type": "code",
   "execution_count": 6,
   "metadata": {},
   "outputs": [
    {
     "name": "stdout",
     "output_type": "stream",
     "text": [
      "龙山镇,慈东,滨海区,海丰北路,602号|town,community,redundant,road,roadno\n",
      "浙江省,杭州市,滨江区,缤纷北苑,47,-,6,-,746|prov,city,district,poi,houseno,redundant,cellno,redundant,roomno\n",
      "浙江省,杭州市,余杭区,杭州市,余杭区,闲林街道,五常大道,翡翠城,竹苑|prov,city,district,redundant,redundant,town,road,poi,subpoi\n",
      "浙江省,杭州市,滨江区,滨康路,1037号|prov,city,district,road,roadno\n",
      "宁波市,江北区,文汇路,553弄,8号门,472|city,district,road,roadno,poi,roomno\n",
      "数据集总地址序列数量: 14927\n",
      "实体密度: 5.671735780799893\n"
     ]
    }
   ],
   "source": [
    "def show_seq_data(tsv_path):\n",
    "    count = 0\n",
    "    entity_nums = 0\n",
    "    for sent in read_tsv(tsv_path):\n",
    "        words,labels = char2word(sent)\n",
    "        if count < 5:\n",
    "            print(\",\".join(words)+\"|\"+\",\".join(labels))\n",
    "        count += 1\n",
    "        entity_nums += len(words)\n",
    "    print(\"数据集总地址序列数量:\", count)\n",
    "    print(\"实体密度:\", entity_nums/count)\n",
    "train_path = './train.txt'\n",
    "show_seq_data(train_path)"
   ]
  },
  {
   "cell_type": "code",
   "execution_count": 34,
   "metadata": {},
   "outputs": [
    {
     "name": "stdout",
     "output_type": "stream",
     "text": [
      " 8957  train +  2985  dev +  2985  test + "
     ]
    }
   ],
   "source": [
    "def print_data_nums(tsv_path,source=\"train\"):\n",
    "    count = 0\n",
    "    for sent in read_tsv(tsv_path):\n",
    "        count += 1\n",
    "    print(\" {}  {} +\".format(count,source),end=\" \")\n",
    "train_path = './train.txt'\n",
    "dev_path = './dev.txt'\n",
    "test_path = './test.txt'\n",
    "print_data_nums(train_path,source=\"train\")\n",
    "print_data_nums(dev_path,source=\"dev\")\n",
    "print_data_nums(test_path,source=\"test\")"
   ]
  },
  {
   "cell_type": "code",
   "execution_count": 29,
   "metadata": {},
   "outputs": [
    {
     "name": "stdout",
     "output_type": "stream",
     "text": [
      "训练集 实体类别计数：\n",
      "命名实体的种类数：21\n",
      "总数: 50934 ,prov : 3794 ,city : 4824 ,district : 5881 ,devzone : 330 ,town : 3972 ,community : 1279 ,country : 41 ,road : 5410 ,roadno : 4316 ,subroad : 333 ,subroadno : 170 ,poi : 6312 ,subpoi : 1435 ,houseno : 2993 ,cellno : 1134 ,floorno : 1119 ,roomno : 2702 ,assist : 718 ,person : 650 ,redundant : 3517 ,otherinfo : 4 ,\n",
      "\n",
      "验证集 实体类别计数：\n",
      "命名实体的种类数：21\n",
      "总数: 17024 ,prov : 1317 ,city : 1662 ,district : 2027 ,devzone : 118 ,town : 1300 ,community : 415 ,country : 15 ,road : 1788 ,roadno : 1435 ,subroad : 109 ,subroadno : 68 ,poi : 2093 ,subpoi : 461 ,houseno : 978 ,cellno : 388 ,floorno : 346 ,roomno : 883 ,assist : 206 ,person : 207 ,redundant : 1208 ,otherinfo : 0 ,\n",
      "\n",
      "测试集 实体类别计数：\n",
      "命名实体的种类数：21\n",
      "总数: 16704 ,prov : 1265 ,city : 1613 ,district : 1921 ,devzone : 107 ,town : 1308 ,community : 416 ,country : 13 ,road : 1801 ,roadno : 1401 ,subroad : 130 ,subroadno : 75 ,poi : 2122 ,subpoi : 487 ,houseno : 943 ,cellno : 358 ,floorno : 331 ,roomno : 824 ,assist : 241 ,person : 208 ,redundant : 1137 ,otherinfo : 3 ,\n",
      "\n"
     ]
    }
   ],
   "source": [
    "def kind_nums_count(data_path,source=\"train\"):\n",
    "    labels = ['prov','city','district','devzone','town','community','country','road', 'roadno','subroad','subroadno','poi', 'subpoi', 'houseno','cellno','floorno','roomno','assist','person','redundant', 'otherinfo']\n",
    "    count = {}\n",
    "    for l in labels:\n",
    "        count[l] = 0\n",
    "    for sent in read_tsv(data_path):\n",
    "        words,labels = char2word(sent)\n",
    "        for t in labels:\n",
    "            t = t.lower()\n",
    "            count[t] += 1\n",
    "    print(source+\" 实体类别计数：\")\n",
    "    print(\"命名实体的种类数：{}\".format(len(count)))\n",
    "    print(\"总数:\",sum(list(count.values())),\",\",end=\"\")\n",
    "    for k,v in count.items():\n",
    "        print(k,\":\",v,\",\",end=\"\")\n",
    "    print(\"\\n\")\n",
    "    return list(count.values())\n",
    "train_kind = kind_nums_count(train_path,source=\"训练集\")\n",
    "dev_kind = kind_nums_count(dev_path,source=\"验证集\")\n",
    "test_kind = kind_nums_count(test_path,source=\"测试集\")\n"
   ]
  },
  {
   "cell_type": "code",
   "execution_count": 38,
   "metadata": {},
   "outputs": [
    {
     "name": "stdout",
     "output_type": "stream",
     "text": [
      "TOO LONG SEQUENCE:  广西壮族自治区柳州市鱼峰区荣军街道永意山语城10栋11单元119楼8号注_快递哥不用打电话直接放物业办公室谢谢哈不用电话了_本人电话太多请理解\n",
      "TOO LONG SEQUENCE:  安徽省合肥市包河区经济开发区繁华大道与吉林路交叉口东南角联东U谷第一期104号楼1-4层安徽伊普诺康生物工程有限公司\n",
      "句子数量: 14927\n",
      "最大句子长度：76, 最小句子长度：3\n",
      "统计句子长度: defaultdict(<class 'int'>, {'15': 5744, '20': 3461, '25': 1521, '10': 3417, '30': 536, '35': 161, '40': 49, '45': 11, '5': 18, '50': 3, '0': 2, '70': 1, '55': 1, '60': 1, '75': 1})\n"
     ]
    },
    {
     "data": {
      "text/plain": [
       "defaultdict(int,\n",
       "            {'15': 5744,\n",
       "             '20': 3461,\n",
       "             '25': 1521,\n",
       "             '10': 3417,\n",
       "             '30': 536,\n",
       "             '35': 161,\n",
       "             '40': 49,\n",
       "             '45': 11,\n",
       "             '5': 18,\n",
       "             '50': 3,\n",
       "             '0': 2,\n",
       "             '70': 1,\n",
       "             '55': 1,\n",
       "             '60': 1,\n",
       "             '75': 1})"
      ]
     },
     "execution_count": 38,
     "metadata": {},
     "output_type": "execute_result"
    }
   ],
   "source": [
    "#统计句子长度\n",
    "from collections import defaultdict\n",
    "def seq_length_count(train,dev,test):\n",
    "    length_count = defaultdict(int)\n",
    "    max_length = 0\n",
    "    min_length = 10000\n",
    "    count_t,count_d,count_test = 0,0,0\n",
    "    for sent in read_tsv(train):\n",
    "        count_t += 1\n",
    "        words,labels = char2word(sent)\n",
    "        word_join = \"\".join(words)\n",
    "        length = len(word_join)\n",
    "        max_length = max(length,max_length)\n",
    "        min_length = min(length,min_length)\n",
    "        idx = str(5*(length//5))\n",
    "        length_count[idx] += 1\n",
    "        if length>50:\n",
    "            print(\"TOO LONG SEQUENCE: \",word_join)\n",
    "    for sent in read_tsv(dev):\n",
    "        words,labels = char2word(sent)\n",
    "        word_join = \"\".join(words)\n",
    "        length = len(word_join)\n",
    "        max_length = max(length,max_length)\n",
    "        min_length = min(length,min_length)\n",
    "        idx = str(5*(length//5))\n",
    "        length_count[idx] += 1\n",
    "        count_d += 1\n",
    "    for sent in read_tsv(test):\n",
    "        words,labels = char2word(sent)\n",
    "        word_join = \"\".join(words)\n",
    "        length = len(word_join)\n",
    "        max_length = max(length,max_length)\n",
    "        min_length = min(length,min_length)\n",
    "        idx = str(5*(length//5))\n",
    "        length_count[idx] += 1\n",
    "        count_test += 1\n",
    "    print(\"句子数量:\",count_t+count_d+count_test)\n",
    "\n",
    "    print(\"最大句子长度：{}, 最小句子长度：{}\".format(max_length,min_length))\n",
    "    print(\"统计句子长度:\",length_count)\n",
    "    return length_count\n",
    "seq_length_count(train_path,dev_path,test_path)"
   ]
  },
  {
   "cell_type": "code",
   "execution_count": 1,
   "metadata": {},
   "outputs": [],
   "source": [
    "import numpy as np\n",
    "import matplotlib.pyplot as plt\n",
    "np.random.seed(19680801)\n",
    "from scipy.ndimage import gaussian_filter1d\n",
    "# import pylab as mpl\n",
    "# mpl.rcParams['font.sans-serif'] = ['FangSong']  # 指定默认字体\n",
    "# mpl.rcParams['axes.unicode_minus'] = False"
   ]
  },
  {
   "cell_type": "code",
   "execution_count": 2,
   "metadata": {},
   "outputs": [
    {
     "name": "stdout",
     "output_type": "stream",
     "text": [
      "15\n",
      "16\n"
     ]
    }
   ],
   "source": [
    "def data_change(dic_tianchi):\n",
    "    print(len(dic_tianchi))\n",
    "    y2_line = [0]*(len(dic_tianchi)+1)\n",
    "    for k,v in dic_tianchi.items():\n",
    "        y2_line[int(k)//5] = v\n",
    "    y2_line = np.array(y2_line)\n",
    "    return y2_line\n",
    "dic_tianchi = {'15': 5744, '20': 3461, '25': 1521, '10': 3417, '30': 536, '35': 161, '40': 49, '45': 11, '5': 18, '50': 3, '0': 2, '70': 1, '55': 1, '60': 1, '75': 1}\n",
    "seq_length_array = data_change(dic_tianchi)\n",
    "print(len(seq_length_array))"
   ]
  },
  {
   "cell_type": "code",
   "execution_count": 3,
   "metadata": {},
   "outputs": [
    {
     "data": {
      "image/png": "[encoded data removed]",
      "text/plain": [
       "<Figure size 720x504 with 1 Axes>"
      ]
     },
     "metadata": {
      "needs_background": "light"
     },
     "output_type": "display_data"
    }
   ],
   "source": [
    "def data_plot(y_line):\n",
    "    x_line = np.linspace(0,75,16)\n",
    "# cornflowerblue\n",
    "    fig,ax = plt.subplots(figsize=(10, 7))\n",
    "    ys = gaussian_filter1d(y_line,sigma=0.3)\n",
    "    rects = ax.bar(x_line, y_line, width=5, edgecolor=\"white\")\n",
    "    plt.tick_params(labelsize=12)\n",
    "    ax.set(xlim=(0, 75), xticks=np.arange(0, 75,5),\n",
    "        ylim=(0, 6000), yticks=np.arange(0, 6000,1000))\n",
    "    labels = ax.get_xticklabels() + ax.get_yticklabels()\n",
    "    [label.set_fontname('SimHei') for label in labels]\n",
    "    font2 = {'family' : 'SimHei',\n",
    "        'weight' : 'normal',\n",
    "        'size' : 12,\n",
    "        }\n",
    "    ax.plot(x_line, ys)\n",
    "    ax.bar_label(rects, label_type='edge', color=\"black\",fontsize=12)\n",
    "    ax.set_xlabel(u'句子长度',font2)  # Add an x-label to the axes.\n",
    "    ax.set_ylabel(u'句子个数',font2)  # Add a y-label to the axes.\n",
    "    # ax.set_title(\"Simple Plot\")  # Add a title to the axes.\n",
    "    plt.plot()\n",
    "data_plot(seq_length_array)"
   ]
  },
  {
   "cell_type": "code",
   "execution_count": 5,
   "metadata": {},
   "outputs": [],
   "source": [
    "def extract_nums(s):\n",
    "    length = len(s)\n",
    "    state = False\n",
    "    ls = []\n",
    "    number = ''\n",
    "    for ch in s:\n",
    "        if state and ch.isdigit():\n",
    "            number += ch\n",
    "        elif (not state) and ch.isdigit():\n",
    "            state = True\n",
    "            number = ch\n",
    "        elif state and (not ch.isdigit()):\n",
    "            state = False\n",
    "            ls.append(int(number))\n",
    "            number = ''\n",
    "        else:\n",
    "            continue\n",
    "    if number:\n",
    "        ls.append(int(number))\n",
    "    return np.array(ls)"
   ]
  },
  {
   "cell_type": "code",
   "execution_count": 6,
   "metadata": {},
   "outputs": [
    {
     "name": "stdout",
     "output_type": "stream",
     "text": [
      "{'prov': [3794, 1317, 1265], 'city': [4824, 1662, 1613], 'district': [5881, 2027, 1921], 'devzone': [330, 118, 107], 'town': [3972, 1300, 1308], 'community': [1279, 415, 416], 'country': [41, 15, 13], 'road': [5410, 1788, 1801], 'roadno': [4316, 1435, 1401], 'subroad': [333, 109, 130], 'subroadno': [170, 68, 75], 'poi': [6312, 2093, 2122], 'subpoi': [1435, 461, 487], 'houseno': [2993, 978, 943], 'cellno': [1134, 388, 358], 'floorno': [1119, 346, 331], 'roomno': [2702, 883, 824], 'assist': [718, 206, 241], 'person': [650, 207, 208], 'redundant': [3517, 1208, 1137], 'otherinfo': [4, 0, 3]}\n"
     ]
    }
   ],
   "source": [
    "train_str = \"总数: 50934 ,prov : 3794 ,city : 4824 ,district : 5881 ,devzone : 330 ,town : 3972 ,community : 1279 ,country : 41 ,road : 5410 ,roadno : 4316 ,subroad : 333 ,subroadno : 170 ,poi : 6312 ,subpoi : 1435 ,houseno : 2993 ,cellno : 1134 ,floorno : 1119 ,roomno : 2702 ,assist : 718 ,person : 650 ,redundant : 3517 ,otherinfo : 4\"\n",
    "dev_str = \"总数: 17024 ,prov : 1317 ,city : 1662 ,district : 2027 ,devzone : 118 ,town : 1300 ,community : 415 ,country : 15 ,road : 1788 ,roadno : 1435 ,subroad : 109 ,subroadno : 68 ,poi : 2093 ,subpoi : 461 ,houseno : 978 ,cellno : 388 ,floorno : 346 ,roomno : 883 ,assist : 206 ,person : 207 ,redundant : 1208 ,otherinfo : 0\"\n",
    "test_str = \"总数: 16704 ,prov : 1265 ,city : 1613 ,district : 1921 ,devzone : 107 ,town : 1308 ,community : 416 ,country : 13 ,road : 1801 ,roadno : 1401 ,subroad : 130 ,subroadno : 75 ,poi : 2122 ,subpoi : 487 ,houseno : 943 ,cellno : 358 ,floorno : 331 ,roomno : 824 ,assist : 241 ,person : 208 ,redundant : 1137 ,otherinfo : 3\"\n",
    "entity_nums_train = extract_nums(train_str)[1:]\n",
    "entity_nums_dev = extract_nums(dev_str)[1:]\n",
    "entity_nums_test = extract_nums(test_str)[1:]\n",
    "entity_names = [\"prov\",\"city\",\"district\",\"devzone\",\"town\",\"community\",\"country\",\"road\",\"roadno\",\"subroad\",\"subroadno\",\"poi\",\"subpoi\",\"houseno\",\"cellno\",\"floorno\" ,\"roomno\",\"assist\",\"person\",\"redundant\",\"otherinfo\"]\n",
    "category_names = [\"训练集\",\"验证集\",\"测试集\"]\n",
    "results = {}\n",
    "for i,key in enumerate(entity_names):\n",
    "    results[key]=[]\n",
    "    results[key].append(entity_nums_train[i])\n",
    "    results[key].append(entity_nums_dev[i])\n",
    "    results[key].append(entity_nums_test[i])\n",
    "    assert len(results[key])==3\n",
    "assert len(results)==21\n",
    "print(results)"
   ]
  },
  {
   "cell_type": "code",
   "execution_count": 7,
   "metadata": {},
   "outputs": [
    {
     "data": {
      "text/plain": [
       "(<Figure size 1440x720 with 1 Axes>, <AxesSubplot: >)"
      ]
     },
     "execution_count": 7,
     "metadata": {},
     "output_type": "execute_result"
    },
    {
     "data": {
      "image/png": "[encoded data removed]",
      "text/plain": [
       "<Figure size 1440x720 with 1 Axes>"
      ]
     },
     "metadata": {
      "needs_background": "light"
     },
     "output_type": "display_data"
    }
   ],
   "source": [
    "def survey(results, category_names):\n",
    "    \"\"\"\n",
    "    Parameters\n",
    "    ----------\n",
    "    results : dict\n",
    "        A mapping from question labels to a list of answers per category.\n",
    "        It is assumed all lists contain the same number of entries and that\n",
    "        it matches the length of *category_names*.\n",
    "    category_names : list of str\n",
    "        The category labels. RdYlGn\n",
    "    \"\"\"\n",
    "    labels = list(results.keys())\n",
    "    data = np.array(list(results.values()))\n",
    "    data_cum = data.cumsum(axis=1)\n",
    "    # category_colors = plt.get_cmap('tab20c')(\n",
    "    #     np.linspace(0.15, 0.75, data.shape[1]))\n",
    "    category_colors = plt.get_cmap('Set2')(\n",
    "        np.arange(0,3))\n",
    "\n",
    "    fig, ax = plt.subplots(figsize=(20, 10))\n",
    "    ax.invert_yaxis()\n",
    "    ax.xaxis.set_visible(False)\n",
    "    plt.tick_params(labelsize=12)\n",
    "    ax.set_xlim(0, np.sum(data, axis=1).max())\n",
    "\n",
    "    font1 = {'family' : 'SimHei',\n",
    "    'weight' : 'normal',\n",
    "    'size' : 12,\n",
    "    }\n",
    "\n",
    "    for i, (colname, color) in enumerate(zip(category_names, category_colors)):\n",
    "        widths = data[:, i]\n",
    "        starts = data_cum[:, i] - widths\n",
    "        rects = ax.barh(labels, widths, left=starts, height=0.8,\n",
    "                        label=colname, color=color)\n",
    "\n",
    "        r, g, b, _ = color\n",
    "        text_color = 'white' if r * g * b < 0.5 else 'black'\n",
    "        ax.bar_label(rects, label_type='center', color=text_color)\n",
    "    ax.legend(ncol=len(category_names), bbox_to_anchor=(0, 1),\n",
    "              loc='lower left',prop=font1)\n",
    "    return fig, ax\n",
    "survey(results, category_names)"
   ]
  }
 ],
 "metadata": {
  "kernelspec": {
   "display_name": "Python 3",
   "language": "python",
   "name": "python3"
  },
  "language_info": {
   "codemirror_mode": {
    "name": "ipython",
    "version": 3
   },
   "file_extension": ".py",
   "mimetype": "text/x-python",
   "name": "python",
   "nbconvert_exporter": "python",
   "pygments_lexer": "ipython3",
   "version": "3.8.5 (v3.8.5:580fbb018f, Jul 20 2020, 12:11:27) \n[Clang 6.0 (clang-600.0.57)]"
  },
  "toc": {
   "base_numbering": 1,
   "nav_menu": {},
   "number_sections": true,
   "sideBar": true,
   "skip_h1_title": false,
   "title_cell": "Table of Contents",
   "title_sidebar": "Contents",
   "toc_cell": false,
   "toc_position": {},
   "toc_section_display": true,
   "toc_window_display": false
  },
  "vscode": {
   "interpreter": {
    "hash": "aee8b7b246df8f9039afb4144a1f6fd8d2ca17a180786b69acc140d282b71a49"
   }
  }
 },
 "nbformat": 4,
 "nbformat_minor": 2
}
