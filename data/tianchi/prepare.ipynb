{
 "cells": [
  {
   "cell_type": "code",
   "execution_count": 1,
   "metadata": {},
   "outputs": [],
   "source": [
    "import codecs\n",
    "import numpy as np"
   ]
  },
  {
   "cell_type": "code",
   "execution_count": 2,
   "metadata": {},
   "outputs": [],
   "source": [
    "train_ch = codecs.open(\"./train.conll\").readlines()\n",
    "dev_ch = codecs.open(\"./dev.conll\").readlines()\n",
    "test_ch = codecs.open(\"./final_test.txt\").readlines()"
   ]
  },
  {
   "cell_type": "code",
   "execution_count": 3,
   "metadata": {},
   "outputs": [
    {
     "name": "stdout",
     "output_type": "stream",
     "text": [
      "['1\\x01朝阳区小关北里000-0号\\n', '2\\x01朝阳区惠新东街00号\\n', '3\\x01朝阳区南磨房路与西大望路交口东南角\\n', '4\\x01朝阳区潘家园南里00号\\n', '5\\x01朝阳区向军南里二巷0号附近\\n']\n",
      "['浙 B-prov\\n', '江 E-prov\\n', '杭 B-city\\n', '州 I-city\\n', '市 E-city\\n', '江 B-district\\n', '干 I-district\\n', '区 E-district\\n', '九 B-town\\n', '堡 I-town\\n', '镇 E-town\\n', '三 B-community\\n', '村 I-community\\n', '村 E-community\\n', '一 B-poi\\n', '区 E-poi\\n', '\\n', '浙 B-prov\\n', '江 I-prov\\n', '省 E-prov\\n']\n"
     ]
    }
   ],
   "source": [
    "print(test_ch[:5])\n",
    "print(train_ch[:20])"
   ]
  },
  {
   "cell_type": "code",
   "execution_count": 4,
   "metadata": {},
   "outputs": [],
   "source": [
    "# 拼接训练集和验证集,并建立字典\n",
    "ix_to_word = []\n",
    "def ch2seq(data_ch):\n",
    "    now_seq,now_label = '',[]\n",
    "    data_seq,data_label = [],[]\n",
    "    for ch in data_ch:\n",
    "        if ' ' in ch:\n",
    "            word,tag = ch.strip().split(' ')\n",
    "            now_seq += word\n",
    "            now_label.append(tag)\n",
    "            if word not in ix_to_word:\n",
    "                ix_to_word.append(word)\n",
    "        else:\n",
    "            # 地址序列的结尾\n",
    "            data_seq.append(now_seq)\n",
    "            data_label.append(now_label)\n",
    "            now_seq,now_label = '',[]\n",
    "    if now_seq:\n",
    "        data_seq.append(now_seq)\n",
    "        data_label.append(now_label)\n",
    "    print(\"word_to_ix词典长度为{}\".format(len(ix_to_word)))\n",
    "    return data_seq,data_label"
   ]
  },
  {
   "cell_type": "code",
   "execution_count": 5,
   "metadata": {},
   "outputs": [
    {
     "name": "stdout",
     "output_type": "stream",
     "text": [
      "word_to_ix词典长度为2307\n",
      "word_to_ix词典长度为2436\n",
      "8856\n",
      "1970\n"
     ]
    }
   ],
   "source": [
    "train_seq,train_label = ch2seq(train_ch)\n",
    "dev_seq,dev_label = ch2seq(dev_ch)\n",
    "print(len(train_seq))\n",
    "print(len(dev_seq))"
   ]
  },
  {
   "cell_type": "code",
   "execution_count": 7,
   "metadata": {},
   "outputs": [
    {
     "name": "stdout",
     "output_type": "stream",
     "text": [
      "['浙江杭州市江干区九堡镇三村村一区', '浙江省温州市平阳县海西镇宋埠公园南路0000号', '浙江省余姚市模具城金型路000号_样样红0A打印', '浙江省杭州市江干区白杨街道下沙开发区世茂江滨花园峻景湾00幢', '秋菱路浙江兰溪金立达框业有限公司']\n",
      "[['B-prov', 'E-prov', 'B-city', 'I-city', 'E-city', 'B-district', 'I-district', 'E-district', 'B-town', 'I-town', 'E-town', 'B-community', 'I-community', 'E-community', 'B-poi', 'E-poi'], ['B-prov', 'I-prov', 'E-prov', 'B-city', 'I-city', 'E-city', 'B-district', 'I-district', 'E-district', 'B-town', 'I-town', 'E-town', 'B-poi', 'I-poi', 'I-poi', 'E-poi', 'B-road', 'E-road', 'B-roadno', 'I-roadno', 'I-roadno', 'I-roadno', 'E-roadno'], ['B-prov', 'I-prov', 'E-prov', 'B-district', 'I-district', 'E-district', 'B-poi', 'I-poi', 'E-poi', 'B-road', 'I-road', 'E-road', 'B-roadno', 'I-roadno', 'I-roadno', 'E-roadno', 'O', 'B-subpoi', 'I-subpoi', 'I-subpoi', 'I-subpoi', 'I-subpoi', 'I-subpoi', 'E-subpoi'], ['B-prov', 'I-prov', 'E-prov', 'B-city', 'I-city', 'E-city', 'B-district', 'I-district', 'E-district', 'B-town', 'I-town', 'I-town', 'E-town', 'B-devzone', 'I-devzone', 'I-devzone', 'I-devzone', 'E-devzone', 'B-poi', 'I-poi', 'I-poi', 'I-poi', 'I-poi', 'E-poi', 'B-subpoi', 'I-subpoi', 'E-subpoi', 'B-houseno', 'I-houseno', 'E-houseno'], ['B-road', 'I-road', 'E-road', 'B-poi', 'I-poi', 'I-poi', 'I-poi', 'I-poi', 'I-poi', 'I-poi', 'I-poi', 'I-poi', 'I-poi', 'I-poi', 'I-poi', 'E-poi']]\n"
     ]
    }
   ],
   "source": [
    "print(train_seq[:5])\n",
    "print(train_label[:5])"
   ]
  },
  {
   "cell_type": "code",
   "execution_count": 6,
   "metadata": {},
   "outputs": [
    {
     "name": "stdout",
     "output_type": "stream",
     "text": [
      "DescribeResult(nobs=8856, minmax=(3, 69), mean=17.157859078590786, variance=32.80534308392208, skewness=1.0429906237323388, kurtosis=2.472641491590407)\n",
      "DescribeResult(nobs=1970, minmax=(4, 76), mean=16.844162436548224, variance=32.96148190351463, skewness=1.516605352983294, kurtosis=7.126069095234971)\n"
     ]
    }
   ],
   "source": [
    "from scipy.stats import describe\n",
    "print(describe([\n",
    "    len(x) for x in train_seq\n",
    "]))\n",
    "print(describe([\n",
    "    len(x) for x in dev_seq\n",
    "]))"
   ]
  },
  {
   "cell_type": "code",
   "execution_count": 9,
   "metadata": {},
   "outputs": [
    {
     "name": "stdout",
     "output_type": "stream",
     "text": [
      "57\n"
     ]
    }
   ],
   "source": [
    "# 将训练集标签和验证集标签进行拼接,sum函数也可以用于列表的展开，相当于子元素相加\n",
    "label_set = sum(train_label,[])+sum(dev_label,[])\n",
    "# 将标签进行去重\n",
    "label_set = list(set(label_set))\n",
    "# label_set.insert(0, 'O')\n",
    "print(len(label_set))"
   ]
  },
  {
   "cell_type": "code",
   "execution_count": 13,
   "metadata": {},
   "outputs": [
    {
     "name": "stdout",
     "output_type": "stream",
     "text": [
      "建立了新的索引词典\n"
     ]
    }
   ],
   "source": [
    "#建立字符和标签的索引词典\n",
    "import os\n",
    "import json\n",
    "vocabs = {\"word_vocab\":{\"pad_token\": \"<pad>\",\"unk_token\": \"<unk>\",\"mutable\": False},\"tag_vocab\":{\"pad_token\":None,\"unk_token\": None,\"mutable\": False}}\n",
    "vocabs[\"word_vocab\"][\"idx_to_token\"] = ix_to_word\n",
    "vocabs[\"tag_vocab\"][\"idx_to_token\"] = label_set\n",
    "file_path = './vocabs.json'\n",
    "def build_vocabs(file_path):\n",
    "    if os.path.exists(file_path):\n",
    "        print(\"已经建立过词典了\")\n",
    "    else:\n",
    "        with open(file_path,'w') as file:\n",
    "            json.dump(vocabs,file,indent=4,ensure_ascii=False\n",
    "                      )\n",
    "            print(\"建立了新的索引词典\")\n",
    "build_vocabs(file_path)"
   ]
  },
  {
   "cell_type": "code",
   "execution_count": 14,
   "metadata": {},
   "outputs": [
    {
     "name": "stdout",
     "output_type": "stream",
     "text": [
      "[['浙', 'B-prov'], ['江', 'E-prov'], ['杭', 'B-city'], ['州', 'I-city'], ['市', 'E-city'], ['江', 'B-district'], ['干', 'I-district'], ['区', 'E-district'], ['九', 'B-town'], ['堡', 'I-town'], ['镇', 'E-town'], ['三', 'B-community'], ['村', 'I-community'], ['村', 'E-community'], ['一', 'B-poi'], ['区', 'E-poi']]\n",
      "[['浙', 'B-prov'], ['江', 'I-prov'], ['省', 'E-prov'], ['温', 'B-city'], ['州', 'I-city'], ['市', 'E-city'], ['平', 'B-district'], ['阳', 'I-district'], ['县', 'E-district'], ['海', 'B-town'], ['西', 'I-town'], ['镇', 'E-town'], ['宋', 'B-poi'], ['埠', 'I-poi'], ['公', 'I-poi'], ['园', 'E-poi'], ['南', 'B-road'], ['路', 'E-road'], ['0', 'B-roadno'], ['0', 'I-roadno'], ['0', 'I-roadno'], ['0', 'I-roadno'], ['号', 'E-roadno']]\n",
      "[['浙', 'B-prov'], ['江', 'I-prov'], ['省', 'E-prov'], ['余', 'B-district'], ['姚', 'I-district'], ['市', 'E-district'], ['模', 'B-poi'], ['具', 'I-poi'], ['城', 'E-poi'], ['金', 'B-road'], ['型', 'I-road'], ['路', 'E-road'], ['0', 'B-roadno'], ['0', 'I-roadno'], ['0', 'I-roadno'], ['号', 'E-roadno'], ['_', 'O'], ['样', 'B-subpoi'], ['样', 'I-subpoi'], ['红', 'I-subpoi'], ['0', 'I-subpoi'], ['A', 'I-subpoi'], ['打', 'I-subpoi'], ['印', 'E-subpoi']]\n",
      "[['浙', 'B-prov'], ['江', 'I-prov'], ['省', 'E-prov'], ['杭', 'B-city'], ['州', 'I-city'], ['市', 'E-city'], ['江', 'B-district'], ['干', 'I-district'], ['区', 'E-district'], ['白', 'B-town'], ['杨', 'I-town'], ['街', 'I-town'], ['道', 'E-town'], ['下', 'B-devzone'], ['沙', 'I-devzone'], ['开', 'I-devzone'], ['发', 'I-devzone'], ['区', 'E-devzone'], ['世', 'B-poi'], ['茂', 'I-poi'], ['江', 'I-poi'], ['滨', 'I-poi'], ['花', 'I-poi'], ['园', 'E-poi'], ['峻', 'B-subpoi'], ['景', 'I-subpoi'], ['湾', 'E-subpoi'], ['0', 'B-houseno'], ['0', 'I-houseno'], ['幢', 'E-houseno']]\n",
      "[['秋', 'B-road'], ['菱', 'I-road'], ['路', 'E-road'], ['浙', 'B-poi'], ['江', 'I-poi'], ['兰', 'I-poi'], ['溪', 'I-poi'], ['金', 'I-poi'], ['立', 'I-poi'], ['达', 'I-poi'], ['框', 'I-poi'], ['业', 'I-poi'], ['有', 'I-poi'], ['限', 'I-poi'], ['公', 'I-poi'], ['司', 'E-poi']]\n"
     ]
    }
   ],
   "source": [
    "from hanlp.utils.io_util import read_tsv\n",
    "count = 0\n",
    "for sent in read_tsv(\"./train.conll\"):\n",
    "    if count<5:\n",
    "        print(sent)\n",
    "    count += 1"
   ]
  }
 ],
 "metadata": {
  "kernelspec": {
   "display_name": "Python 3",
   "language": "python",
   "name": "python3"
  },
  "language_info": {
   "codemirror_mode": {
    "name": "ipython",
    "version": 3
   },
   "file_extension": ".py",
   "mimetype": "text/x-python",
   "name": "python",
   "nbconvert_exporter": "python",
   "pygments_lexer": "ipython3",
   "version": "3.8.5"
  },
  "orig_nbformat": 4,
  "vscode": {
   "interpreter": {
    "hash": "aee8b7b246df8f9039afb4144a1f6fd8d2ca17a180786b69acc140d282b71a49"
   }
  }
 },
 "nbformat": 4,
 "nbformat_minor": 2
}
